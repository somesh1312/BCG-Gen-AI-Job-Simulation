{
 "cells": [
  {
   "cell_type": "code",
   "execution_count": 1,
   "id": "7e2e5e11-b8f1-468f-bd3f-21ef484ff71c",
   "metadata": {},
   "outputs": [],
   "source": [
    "import pandas as pd"
   ]
  },
  {
   "cell_type": "code",
   "execution_count": 2,
   "id": "4705e207-dd98-4f17-a6a6-01f4f4ab0ed4",
   "metadata": {},
   "outputs": [],
   "source": [
    "df = pd.read_csv('Formk-filings.csv')"
   ]
  },
  {
   "cell_type": "code",
   "execution_count": 4,
   "id": "cb66f5c7-04e1-4615-be93-0717bd7dafae",
   "metadata": {},
   "outputs": [
    {
     "name": "stderr",
     "output_type": "stream",
     "text": [
      "<>:2: SyntaxWarning: invalid escape sequence '\\$'\n",
      "<>:2: SyntaxWarning: invalid escape sequence '\\$'\n",
      "/var/folders/qf/t_vz01x14sv9g964tyl6r9_00000gn/T/ipykernel_9934/1548248204.py:2: SyntaxWarning: invalid escape sequence '\\$'\n",
      "  df[numeric_columns] = df[numeric_columns].replace('[\\$,]', '', regex=True).astype(float)\n"
     ]
    }
   ],
   "source": [
    "numeric_columns = ['Total Revenue', 'Net Income', 'Total Assets', 'Total Liabilities', 'Cash Flow(Operating)']\n",
    "df[numeric_columns] = df[numeric_columns].replace('[\\$,]', '', regex=True).astype(float)"
   ]
  },
  {
   "cell_type": "code",
   "execution_count": 5,
   "id": "e5046970-9343-45e1-967b-cf78905703c7",
   "metadata": {},
   "outputs": [],
   "source": [
    "df['Revenue Growth (%)'] = df.groupby(['Company'])['Total Revenue'].pct_change() * 100\n",
    "df['Net Income Growth (%)'] = df.groupby(['Company'])['Net Income'].pct_change() * 100"
   ]
  },
  {
   "cell_type": "code",
   "execution_count": 6,
   "id": "6ae6d114-84f7-43fe-b2ed-bbbdb3fee1ba",
   "metadata": {},
   "outputs": [
    {
     "data": {
      "text/html": [
       "<div>\n",
       "<style scoped>\n",
       "    .dataframe tbody tr th:only-of-type {\n",
       "        vertical-align: middle;\n",
       "    }\n",
       "\n",
       "    .dataframe tbody tr th {\n",
       "        vertical-align: top;\n",
       "    }\n",
       "\n",
       "    .dataframe thead th {\n",
       "        text-align: right;\n",
       "    }\n",
       "</style>\n",
       "<table border=\"1\" class=\"dataframe\">\n",
       "  <thead>\n",
       "    <tr style=\"text-align: right;\">\n",
       "      <th></th>\n",
       "      <th>Company</th>\n",
       "      <th>Total Revenue</th>\n",
       "      <th>Net Income</th>\n",
       "      <th>Total Assets</th>\n",
       "      <th>Total Liabilities</th>\n",
       "      <th>Cash Flow(Operating)</th>\n",
       "      <th>FY</th>\n",
       "      <th>Revenue Growth (%)</th>\n",
       "      <th>Net Income Growth (%)</th>\n",
       "    </tr>\n",
       "  </thead>\n",
       "  <tbody>\n",
       "    <tr>\n",
       "      <th>0</th>\n",
       "      <td>Microsoft</td>\n",
       "      <td>211915.0</td>\n",
       "      <td>72361.0</td>\n",
       "      <td>411976.0</td>\n",
       "      <td>205754.0</td>\n",
       "      <td>87582.0</td>\n",
       "      <td>2023</td>\n",
       "      <td>NaN</td>\n",
       "      <td>NaN</td>\n",
       "    </tr>\n",
       "    <tr>\n",
       "      <th>1</th>\n",
       "      <td>Microsoft</td>\n",
       "      <td>198270.0</td>\n",
       "      <td>72738.0</td>\n",
       "      <td>364840.0</td>\n",
       "      <td>198298.0</td>\n",
       "      <td>89035.0</td>\n",
       "      <td>2022</td>\n",
       "      <td>-6.438902</td>\n",
       "      <td>0.520999</td>\n",
       "    </tr>\n",
       "    <tr>\n",
       "      <th>2</th>\n",
       "      <td>Microsoft</td>\n",
       "      <td>168088.0</td>\n",
       "      <td>61271.0</td>\n",
       "      <td>333779.0</td>\n",
       "      <td>191791.0</td>\n",
       "      <td>76740.0</td>\n",
       "      <td>2021</td>\n",
       "      <td>-15.222676</td>\n",
       "      <td>-15.764800</td>\n",
       "    </tr>\n",
       "    <tr>\n",
       "      <th>3</th>\n",
       "      <td>Tesla</td>\n",
       "      <td>96773.0</td>\n",
       "      <td>15215.0</td>\n",
       "      <td>106618.0</td>\n",
       "      <td>43009.0</td>\n",
       "      <td>13256.0</td>\n",
       "      <td>2023</td>\n",
       "      <td>NaN</td>\n",
       "      <td>NaN</td>\n",
       "    </tr>\n",
       "    <tr>\n",
       "      <th>4</th>\n",
       "      <td>Tesla</td>\n",
       "      <td>81462.0</td>\n",
       "      <td>12141.0</td>\n",
       "      <td>82338.0</td>\n",
       "      <td>36440.0</td>\n",
       "      <td>14724.0</td>\n",
       "      <td>2022</td>\n",
       "      <td>-15.821562</td>\n",
       "      <td>-20.203746</td>\n",
       "    </tr>\n",
       "  </tbody>\n",
       "</table>\n",
       "</div>"
      ],
      "text/plain": [
       "     Company  Total Revenue  Net Income  Total Assets  Total Liabilities  \\\n",
       "0  Microsoft       211915.0     72361.0      411976.0           205754.0   \n",
       "1  Microsoft       198270.0     72738.0      364840.0           198298.0   \n",
       "2  Microsoft       168088.0     61271.0      333779.0           191791.0   \n",
       "3      Tesla        96773.0     15215.0      106618.0            43009.0   \n",
       "4      Tesla        81462.0     12141.0       82338.0            36440.0   \n",
       "\n",
       "   Cash Flow(Operating)    FY  Revenue Growth (%)  Net Income Growth (%)  \n",
       "0               87582.0  2023                 NaN                    NaN  \n",
       "1               89035.0  2022           -6.438902               0.520999  \n",
       "2               76740.0  2021          -15.222676             -15.764800  \n",
       "3               13256.0  2023                 NaN                    NaN  \n",
       "4               14724.0  2022          -15.821562             -20.203746  "
      ]
     },
     "execution_count": 6,
     "metadata": {},
     "output_type": "execute_result"
    }
   ],
   "source": [
    "df.head()"
   ]
  },
  {
   "cell_type": "code",
   "execution_count": 16,
   "id": "e728e512-ddec-4a70-be26-53fedce0e816",
   "metadata": {},
   "outputs": [],
   "source": [
    "df.fillna(0, inplace = True)"
   ]
  },
  {
   "cell_type": "code",
   "execution_count": 17,
   "id": "8495d7b9-b533-40d9-aeb5-7b464e3674ca",
   "metadata": {},
   "outputs": [
    {
     "data": {
      "text/html": [
       "<div>\n",
       "<style scoped>\n",
       "    .dataframe tbody tr th:only-of-type {\n",
       "        vertical-align: middle;\n",
       "    }\n",
       "\n",
       "    .dataframe tbody tr th {\n",
       "        vertical-align: top;\n",
       "    }\n",
       "\n",
       "    .dataframe thead th {\n",
       "        text-align: right;\n",
       "    }\n",
       "</style>\n",
       "<table border=\"1\" class=\"dataframe\">\n",
       "  <thead>\n",
       "    <tr style=\"text-align: right;\">\n",
       "      <th></th>\n",
       "      <th>Company</th>\n",
       "      <th>Total Revenue</th>\n",
       "      <th>Net Income</th>\n",
       "      <th>Total Assets</th>\n",
       "      <th>Total Liabilities</th>\n",
       "      <th>Cash Flow(Operating)</th>\n",
       "      <th>FY</th>\n",
       "      <th>Revenue Growth (%)</th>\n",
       "      <th>Net Income Growth (%)</th>\n",
       "    </tr>\n",
       "  </thead>\n",
       "  <tbody>\n",
       "    <tr>\n",
       "      <th>0</th>\n",
       "      <td>Microsoft</td>\n",
       "      <td>211915.0</td>\n",
       "      <td>72361.0</td>\n",
       "      <td>411976.0</td>\n",
       "      <td>205754.0</td>\n",
       "      <td>87582.0</td>\n",
       "      <td>2023</td>\n",
       "      <td>0.000000</td>\n",
       "      <td>0.000000</td>\n",
       "    </tr>\n",
       "    <tr>\n",
       "      <th>1</th>\n",
       "      <td>Microsoft</td>\n",
       "      <td>198270.0</td>\n",
       "      <td>72738.0</td>\n",
       "      <td>364840.0</td>\n",
       "      <td>198298.0</td>\n",
       "      <td>89035.0</td>\n",
       "      <td>2022</td>\n",
       "      <td>-6.438902</td>\n",
       "      <td>0.520999</td>\n",
       "    </tr>\n",
       "    <tr>\n",
       "      <th>2</th>\n",
       "      <td>Microsoft</td>\n",
       "      <td>168088.0</td>\n",
       "      <td>61271.0</td>\n",
       "      <td>333779.0</td>\n",
       "      <td>191791.0</td>\n",
       "      <td>76740.0</td>\n",
       "      <td>2021</td>\n",
       "      <td>-15.222676</td>\n",
       "      <td>-15.764800</td>\n",
       "    </tr>\n",
       "    <tr>\n",
       "      <th>3</th>\n",
       "      <td>Tesla</td>\n",
       "      <td>96773.0</td>\n",
       "      <td>15215.0</td>\n",
       "      <td>106618.0</td>\n",
       "      <td>43009.0</td>\n",
       "      <td>13256.0</td>\n",
       "      <td>2023</td>\n",
       "      <td>0.000000</td>\n",
       "      <td>0.000000</td>\n",
       "    </tr>\n",
       "    <tr>\n",
       "      <th>4</th>\n",
       "      <td>Tesla</td>\n",
       "      <td>81462.0</td>\n",
       "      <td>12141.0</td>\n",
       "      <td>82338.0</td>\n",
       "      <td>36440.0</td>\n",
       "      <td>14724.0</td>\n",
       "      <td>2022</td>\n",
       "      <td>-15.821562</td>\n",
       "      <td>-20.203746</td>\n",
       "    </tr>\n",
       "  </tbody>\n",
       "</table>\n",
       "</div>"
      ],
      "text/plain": [
       "     Company  Total Revenue  Net Income  Total Assets  Total Liabilities  \\\n",
       "0  Microsoft       211915.0     72361.0      411976.0           205754.0   \n",
       "1  Microsoft       198270.0     72738.0      364840.0           198298.0   \n",
       "2  Microsoft       168088.0     61271.0      333779.0           191791.0   \n",
       "3      Tesla        96773.0     15215.0      106618.0            43009.0   \n",
       "4      Tesla        81462.0     12141.0       82338.0            36440.0   \n",
       "\n",
       "   Cash Flow(Operating)    FY  Revenue Growth (%)  Net Income Growth (%)  \n",
       "0               87582.0  2023            0.000000               0.000000  \n",
       "1               89035.0  2022           -6.438902               0.520999  \n",
       "2               76740.0  2021          -15.222676             -15.764800  \n",
       "3               13256.0  2023            0.000000               0.000000  \n",
       "4               14724.0  2022          -15.821562             -20.203746  "
      ]
     },
     "execution_count": 17,
     "metadata": {},
     "output_type": "execute_result"
    }
   ],
   "source": [
    "df.head()"
   ]
  },
  {
   "cell_type": "markdown",
   "id": "900c7228-ac1a-43c5-a061-e61bd94a4a10",
   "metadata": {},
   "source": [
    "## Financial Analysis Summary\n",
    "\n",
    "### Revenue Growth:\n",
    "- Microsoft:\n",
    "  - Experienced a decrease in revenue from 2021 to 2022 (approximately -16.0%).\n",
    "  - Further declined in revenue from 2022 to 2023 (approximately -6.3%).\n",
    "- Tesla:\n",
    "  - Demonstrated an increase in revenue from 2021 to 2022 (approximately +51.3%).\n",
    "  - Continued growth in revenue from 2022 to 2023 (approximately +18.9%).\n",
    "- Apple:\n",
    "  - Saw a slight decline in revenue from 2021 to 2022 (approximately -7.0%).\n",
    "  - Showed a modest increase in revenue from 2022 to 2023 (approximately +3.0%).\n",
    "\n",
    "### Net Income Growth:\n",
    "- Microsoft:\n",
    "  - Witnessed a decrease in net income from 2021 to 2022 (approximately -15.6%).\n",
    "  - Maintained a relatively stable net income from 2022 to 2023 (approximately -0.5%).\n",
    "- Tesla:\n",
    "  - Experienced a significant increase in net income from 2021 to 2022 (approximately +132.6%).\n",
    "  - Sustained growth in net income from 2022 to 2023 (approximately +25.3%).\n",
    "- Apple:\n",
    "  - Demonstrated a slight decrease in net income from 2021 to 2022 (approximately -5.3%).\n",
    "  - Showed a slight increase in net income from 2022 to 2023 (approximately +2.8%).\n",
    "\n",
    "### Overall Trends:\n",
    "- Microsoft:\n",
    "  - Experienced declining revenue and relatively stable net income.\n",
    "- Tesla:\n",
    "  - Demonstrated robust revenue and net income growth over the period.\n",
    "- Apple:\n",
    "  - Saw mixed results with slight fluctuations in revenue and net income.\n",
    "\n",
    "These trends indicate varying performances among the companies analyzed, with Tesla showing significant growth, Microsoft experiencing some challenges, and Apple demonstrating stability with minor fluctuations.\n"
   ]
  },
  {
   "cell_type": "code",
   "execution_count": 14,
   "id": "7a0e6196-c0ed-47e8-9b66-d5d7e1da216a",
   "metadata": {},
   "outputs": [
    {
     "name": "stdout",
     "output_type": "stream",
     "text": [
      "Apple:\n",
      "- Average Total Revenue: $381,143.33\n",
      "- Average Net Income: $97,159.33\n",
      "- Average Total Assets: $352,113.33\n",
      "- Average Total Liabilities: $293,477.33\n",
      "- Average Cash Flow (Operating): $112,244.00\n",
      "Microsoft:\n",
      "- Average Total Revenue: $192,757.67\n",
      "- Average Net Income: $68,790.00\n",
      "- Average Total Assets: $370,198.33\n",
      "- Average Total Liabilities: $198,614.33\n",
      "- Average Cash Flow (Operating): $84,452.33\n",
      "Tesla:\n",
      "- Average Total Revenue: $77,352.67\n",
      "- Average Net Income: $10,855.33\n",
      "- Average Total Assets: $83,695.67\n",
      "- Average Total Liabilities: $36,663.67\n",
      "- Average Cash Flow (Operating): $13,159.00\n"
     ]
    }
   ],
   "source": [
    "# Function to calculate average\n",
    "def calculate_average(data):\n",
    "    # Calculate average for each metric\n",
    "    average_data = {\n",
    "        \"Total Revenue\": data[\"Total Revenue\"].mean(),\n",
    "        \"Net Income\": data[\"Net Income\"].mean(),\n",
    "        \"Total Assets\": data[\"Total Assets\"].mean(),\n",
    "        \"Total Liabilities\": data[\"Total Liabilities\"].mean(),\n",
    "        \"Cash Flow (Operating)\": data[\"Cash Flow(Operating)\"].mean()\n",
    "    }\n",
    "    return average_data\n",
    "\n",
    "# Group by company and calculate average for each company\n",
    "grouped_df = df.groupby(\"Company\")\n",
    "for company, group in grouped_df:\n",
    "    average_data = calculate_average(group)\n",
    "    print(f\"{company}:\")\n",
    "    for metric, value in average_data.items():\n",
    "        print(f\"- Average {metric}: ${value:,.2f}\")\n"
   ]
  },
  {
   "cell_type": "markdown",
   "id": "6c151582-37a6-4b33-94e4-3ec473327bed",
   "metadata": {},
   "source": [
    "### Average Financial Metrics by Company:\n",
    "\n",
    "### Observations:\n",
    "\n",
    "- Microsoft shows a consistent increase in Total Revenue, Net Income, Total Assets, Total Liabilities, and Cash Flow (Operating) over the years.\n",
    "- Tesla demonstrates significant growth in Total Revenue and Net Income, with a notable increase in Total Assets and Total Liabilities.\n",
    "- Apple maintains a high level of Total Revenue and Net Income, with relatively stable Total Assets and Total Liabilities.\n",
    "\n",
    "### Comparative Analysis:\n",
    "\n",
    "- Microsoft has the highest Average Total Revenue and Average Cash Flow (Operating) among the three companies.\n",
    "- Apple has the highest Average Net Income and Average Total Assets.\n",
    "- Tesla has the lowest Average Total Revenue, Net Income, and Total Assets among the three companies.\n",
    "\n",
    "### Conclusion:\n",
    "\n",
    "- Microsoft exhibits strong financial performance with consistent growth across various metrics.\n",
    "- Tesla shows remarkable growth potential but may face challenges with its relatively lower average financial metrics compared to Microsoft and Apple.\n",
    "- Apple remains a dominant player in the market with high levels of revenue, net income, and asset base, indicating stability and strong market presence.\n"
   ]
  },
  {
   "cell_type": "code",
   "execution_count": 18,
   "id": "b8fd2064-6bcf-4299-ba56-4704b76df872",
   "metadata": {},
   "outputs": [
    {
     "name": "stdout",
     "output_type": "stream",
     "text": [
      "Total Revenue for Each Company Across All Years:\n",
      "Company\n",
      "Apple        1143430.0\n",
      "Microsoft     578273.0\n",
      "Tesla         232058.0\n",
      "Name: Total Revenue, dtype: float64\n"
     ]
    }
   ],
   "source": [
    "total_revenue_by_company = df.groupby(\"Company\")[\"Total Revenue\"].sum()\n",
    "\n",
    "print(\"Total Revenue for Each Company Across All Years:\")\n",
    "print(total_revenue_by_company)"
   ]
  },
  {
   "cell_type": "code",
   "execution_count": 23,
   "id": "46398628-7259-4db5-8f69-517541a90232",
   "metadata": {},
   "outputs": [
    {
     "name": "stdout",
     "output_type": "stream",
     "text": [
      "Trend in Total Assets Over the Three Years for Each Company:\n",
      "FY             2021      2022      2023\n",
      "Company                                \n",
      "Apple      351002.0  352755.0  352583.0\n",
      "Microsoft  333779.0  364840.0  411976.0\n",
      "Tesla       62131.0   82338.0  106618.0\n"
     ]
    }
   ],
   "source": [
    "# Group by company and year, then calculate the trend in total assets\n",
    "trend_total_assets = df.groupby([\"Company\", \"FY\"])[\"Total Assets\"].mean().unstack()\n",
    "\n",
    "print(\"Trend in Total Assets Over the Three Years for Each Company:\")\n",
    "print(trend_total_assets)\n",
    "\n"
   ]
  },
  {
   "cell_type": "code",
   "execution_count": 25,
   "id": "bd43aa19-ca54-4c5f-87c6-767f22c54fab",
   "metadata": {},
   "outputs": [
    {
     "name": "stdout",
     "output_type": "stream",
     "text": [
      "Operating Cash Flow for the Latest Fiscal Year:\n",
      "           Cash Flow(Operating)\n",
      "Company                        \n",
      "Microsoft               87582.0\n",
      "Tesla                   13256.0\n",
      "Apple                  110543.0\n"
     ]
    }
   ],
   "source": [
    "# Filter the DataFrame for the latest fiscal year\n",
    "latest_year_data = df[df[\"FY\"] == df[\"FY\"].max()]\n",
    "\n",
    "# Compare operating cash flow across companies for the latest fiscal year\n",
    "operating_cash_flow_latest_year = latest_year_data[[\"Company\", \"Cash Flow(Operating)\"]].set_index(\"Company\")\n",
    "\n",
    "print(\"Operating Cash Flow for the Latest Fiscal Year:\")\n",
    "print(operating_cash_flow_latest_year)\n"
   ]
  },
  {
   "cell_type": "code",
   "execution_count": 32,
   "id": "1843c677-f5f7-48a0-aa48-b2d1258b9f7c",
   "metadata": {},
   "outputs": [
    {
     "name": "stdout",
     "output_type": "stream",
     "text": [
      "Debt Ratio for Each Company Across All Years:\n",
      "     Company  Debt Ratio\n",
      "0  Microsoft    0.499432\n",
      "1  Microsoft    0.543520\n",
      "2  Microsoft    0.574605\n",
      "3      Tesla    0.403393\n",
      "4      Tesla    0.442566\n",
      "5      Tesla    0.491574\n",
      "6      Apple    0.823741\n",
      "7      Apple    0.856354\n",
      "8      Apple    0.820257\n"
     ]
    }
   ],
   "source": [
    "# Calculate the debt ratio for each company across all years\n",
    "df[\"Debt Ratio\"] = df[\"Total Liabilities\"] / df[\"Total Assets\"]\n",
    "\n",
    "print(\"Debt Ratio for Each Company Across All Years:\")\n",
    "print(df[[\"Company\", \"Debt Ratio\"]])\n"
   ]
  },
  {
   "cell_type": "code",
   "execution_count": 28,
   "id": "a38abe03-3369-48e0-9df7-c139b80f12b4",
   "metadata": {},
   "outputs": [
    {
     "name": "stdout",
     "output_type": "stream",
     "text": [
      "Select a query:\n",
      "1: What is the total revenue of each company?\n",
      "2: What is the trend in total assets over the three years for each company?\n",
      "3: How does the operating cash flow compare across companies for the latest fiscal year?\n",
      "4: What is the debt ratio for each company across all years?\n"
     ]
    },
    {
     "name": "stdin",
     "output_type": "stream",
     "text": [
      "Enter the query number:  4\n"
     ]
    },
    {
     "name": "stdout",
     "output_type": "stream",
     "text": [
      "\n",
      "Query: What is the debt ratio for each company across all years?\n",
      "\n",
      "     Company  Debt Ratio\n",
      "0  Microsoft    0.499432\n",
      "1  Microsoft    0.543520\n",
      "2  Microsoft    0.574605\n",
      "3      Tesla    0.403393\n",
      "4      Tesla    0.442566\n",
      "5      Tesla    0.491574\n",
      "6      Apple    0.823741\n",
      "7      Apple    0.856354\n",
      "8      Apple    0.820257\n"
     ]
    }
   ],
   "source": [
    "# Defining the predefined queries and corresponding responses\n",
    "queries_responses = {\n",
    "    \"1\": (\"What is the total revenue of each company?\", total_revenue_by_company),\n",
    "    \"2\": (\"What is the trend in total assets over the three years for each company?\", trend_total_assets),\n",
    "    \"3\": (\"How does the operating cash flow compare across companies for the latest fiscal year?\", operating_cash_flow_latest_year),\n",
    "    \"4\": (\"What is the debt ratio for each company across all years?\", df[[\"Company\", \"Debt Ratio\"]])\n",
    "}\n",
    "\n",
    "# Display the menu options to the user\n",
    "print(\"Select a query:\")\n",
    "for key, value in queries_responses.items():\n",
    "    print(f\"{key}: {value[0]}\")\n",
    "\n",
    "# Get user input\n",
    "user_input = input(\"Enter the query number: \")\n",
    "\n",
    "# Check if the input query number is valid\n",
    "if user_input in queries_responses:\n",
    "    query, response = queries_responses[user_input]\n",
    "    print(f\"\\nQuery: {query}\\n\")\n",
    "    print(response)\n",
    "else:\n",
    "    print(\"Invalid query number. Please select a valid query number.\")\n"
   ]
  },
  {
   "cell_type": "markdown",
   "id": "21538a9c-126b-40c5-9b2c-50486611e4b7",
   "metadata": {},
   "source": [
    "**Chatbot Overview:**\n",
    "\n",
    "This chatbot is designed to provide responses to predefined queries related to financial data of companies which is Microsoft, Apple and Tesla. It allows users to select a query from a menu and receive the corresponding response.\n",
    "\n",
    "**Predefined Queries:**\n",
    "\n",
    "1. **Total Revenue by Company:** This query provides the total revenue of each company.\n",
    "2. **Trend in Total Assets:** It shows the trend in total assets over the three years for each company.\n",
    "3. **Operating Cash Flow Comparison:** This query compares the operating cash flow across companies for the latest fiscal year.\n",
    "4. **Debt Ratio by Company:** It gives the debt ratio for each company across all years.\n",
    "\n",
    "**How It Works:**\n",
    "\n",
    "1. The predefined queries along with their corresponding responses are stored in a dictionary called `queries_responses`.\n",
    "2. The chatbot displays the menu options to the user, showing the query numbers and their descriptions.\n",
    "3. It prompts the user to enter a query number.\n",
    "4. If the input query number is valid, it retrieves the query description and response from the `queries_responses` dictionary and displays them to the user.\n",
    "5. If the input query number is invalid, it informs the user about it.\n",
    "\n",
    "**Limitations:**\n",
    "\n",
    "1. The chatbot is limited to responding to predefined queries and cannot handle arbitrary questions.\n",
    "2. It assumes that the financial data required for the queries is readily available in the DataFrame.\n",
    "3. It may not handle errors or unexpected inputs gracefully, providing limited error handling.\n",
    "\n",
    "This chatbot serves as a tool to quickly access specific financial insights for companies without needing to manually analyze the data."
   ]
  },
  {
   "cell_type": "code",
   "execution_count": null,
   "id": "5921b44e-33bd-47d4-9a90-bf6f618ca8d7",
   "metadata": {},
   "outputs": [],
   "source": []
  }
 ],
 "metadata": {
  "kernelspec": {
   "display_name": "Python 3 (ipykernel)",
   "language": "python",
   "name": "python3"
  },
  "language_info": {
   "codemirror_mode": {
    "name": "ipython",
    "version": 3
   },
   "file_extension": ".py",
   "mimetype": "text/x-python",
   "name": "python",
   "nbconvert_exporter": "python",
   "pygments_lexer": "ipython3",
   "version": "3.12.3"
  }
 },
 "nbformat": 4,
 "nbformat_minor": 5
}
